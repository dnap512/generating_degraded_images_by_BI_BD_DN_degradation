{
  "nbformat": 4,
  "nbformat_minor": 0,
  "metadata": {
    "kernelspec": {
      "display_name": "Python 3",
      "language": "python",
      "name": "python3"
    },
    "language_info": {
      "codemirror_mode": {
        "name": "ipython",
        "version": 3
      },
      "file_extension": ".py",
      "mimetype": "text/x-python",
      "name": "python",
      "nbconvert_exporter": "python",
      "pygments_lexer": "ipython3",
      "version": "3.6.9"
    },
    "toc": {
      "base_numbering": 1,
      "nav_menu": {},
      "number_sections": true,
      "sideBar": true,
      "skip_h1_title": false,
      "title_cell": "Table of Contents",
      "title_sidebar": "Contents",
      "toc_cell": false,
      "toc_position": {},
      "toc_section_display": true,
      "toc_window_display": false
    },
    "varInspector": {
      "cols": {
        "lenName": 16,
        "lenType": 16,
        "lenVar": 40
      },
      "kernels_config": {
        "python": {
          "delete_cmd_postfix": "",
          "delete_cmd_prefix": "del ",
          "library": "var_list.py",
          "varRefreshCmd": "print(var_dic_list())"
        },
        "r": {
          "delete_cmd_postfix": ") ",
          "delete_cmd_prefix": "rm(",
          "library": "var_list.r",
          "varRefreshCmd": "cat(var_dic_list()) "
        }
      },
      "types_to_exclude": [
        "module",
        "function",
        "builtin_function_or_method",
        "instance",
        "_Feature"
      ],
      "window_display": false
    },
    "colab": {
      "name": "generating_image_degraded _from_HR_to_BI_DN_BD.ipynb",
      "provenance": [],
      "collapsed_sections": []
    }
  },
  "cells": [
    {
      "cell_type": "code",
      "metadata": {
        "ExecuteTime": {
          "end_time": "2020-04-09T05:02:07.939721Z",
          "start_time": "2020-04-09T05:02:07.774324Z"
        },
        "id": "xg5S-St6_xoa",
        "colab_type": "code",
        "outputId": "1e8f4f6d-6e12-4583-8686-96ae312544f5",
        "colab": {
          "base_uri": "https://localhost:8080/",
          "height": 53
        }
      },
      "source": [
        "import os\n",
        "import glob\n",
        "import scipy.misc as misc\n",
        "\n",
        "# dir_path == directory path of HR images\n",
        "dir_path = \"val2017\"   # <<== input your directory\n",
        "dir_path += \"/*\"\n",
        "\n",
        "save_format = \"png\"\n",
        "\n",
        "\n",
        "path = dir_path\n",
        "\n",
        "file_list = glob.glob(path)\n",
        "print(file_list)\n",
        "a = os.path.splitext(file_list[0])[-2]\n",
        "print(os.path.split(a))"
      ],
      "execution_count": 0,
      "outputs": [
        {
          "output_type": "stream",
          "text": [
            "['val2017/example2.PNG', 'val2017/example.PNG']\n",
            "('val2017', 'example2')\n"
          ],
          "name": "stdout"
        }
      ]
    },
    {
      "cell_type": "code",
      "metadata": {
        "ExecuteTime": {
          "end_time": "2020-04-09T05:04:14.942362Z",
          "start_time": "2020-04-09T05:02:09.512918Z"
        },
        "id": "Q6YzTCUT_xoh",
        "colab_type": "code",
        "outputId": "3278fab1-0ea0-470a-cc64-7c2deef39903",
        "colab": {
          "base_uri": "https://localhost:8080/",
          "height": 287
        }
      },
      "source": [
        "# Generating bicubic downsampling x2,x4 images\n",
        "\n",
        "magnification = [2,4]\n",
        "\n",
        "for magni in magnification:\n",
        "    mag = \"x{}\".format(magni)\n",
        "    biSR = mag+\"_bicubicSR\"\n",
        "    try:\n",
        "        os.mkdir(mag)\n",
        "        os.mkdir(biSR)\n",
        "    except:\n",
        "        print(\"Directory was already made!\")\n",
        "        \n",
        "    reduction = {\"x2\": 0.5, \"x4\":0.25 }\n",
        "    sratio = {\"x2\":2.0, \"x4\":4.0 }\n",
        "    \n",
        "    for file in file_list:\n",
        "        file_name = os.path.splitext(file)[-2]\n",
        "        file_name = os.path.split(file_name)[-1]\n",
        "        img = misc.imread(file)\n",
        "        lr = misc.imresize(img, size = reduction[mag], interp=\"bicubic\")\n",
        "        misc.imsave(mag+\"/\"+file_name+\".{}\".format(save_format), lr, format=save_format)\n",
        "        print(file_name)\n",
        "        \n",
        "        "
      ],
      "execution_count": 0,
      "outputs": [
        {
          "output_type": "stream",
          "text": [
            "Directory was already made!\n",
            "example2\n",
            "example\n",
            "Directory was already made!\n",
            "example2\n",
            "example\n"
          ],
          "name": "stdout"
        },
        {
          "output_type": "stream",
          "text": [
            "/usr/local/lib/python3.6/dist-packages/ipykernel_launcher.py:19: DeprecationWarning: `imread` is deprecated!\n",
            "`imread` is deprecated in SciPy 1.0.0, and will be removed in 1.2.0.\n",
            "Use ``imageio.imread`` instead.\n",
            "/usr/local/lib/python3.6/dist-packages/ipykernel_launcher.py:20: DeprecationWarning: `imresize` is deprecated!\n",
            "`imresize` is deprecated in SciPy 1.0.0, and will be removed in 1.2.0.\n",
            "Use ``skimage.transform.resize`` instead.\n",
            "/usr/local/lib/python3.6/dist-packages/ipykernel_launcher.py:21: DeprecationWarning: `imsave` is deprecated!\n",
            "`imsave` is deprecated in SciPy 1.0.0, and will be removed in 1.2.0.\n",
            "Use ``imageio.imwrite`` instead.\n"
          ],
          "name": "stderr"
        }
      ]
    },
    {
      "cell_type": "code",
      "metadata": {
        "ExecuteTime": {
          "end_time": "2020-04-08T06:20:21.688122Z",
          "start_time": "2020-04-08T06:20:21.650966Z"
        },
        "id": "QXxiByoX_xoj",
        "colab_type": "code",
        "outputId": "1e9564bd-f5e6-4a39-c5f4-8d7124d27044",
        "colab": {
          "base_uri": "https://localhost:8080/",
          "height": 35
        }
      },
      "source": [
        "# Generating DN dataset\n",
        "\n",
        "import numpy as np\n",
        "\n",
        "path =\"./x2/*\"\n",
        "\n",
        "file_list = glob.glob(path)\n",
        "print(file_list)"
      ],
      "execution_count": 0,
      "outputs": [
        {
          "output_type": "stream",
          "text": [
            "['./x2/example2.png', './x2/example.png']\n"
          ],
          "name": "stdout"
        }
      ]
    },
    {
      "cell_type": "code",
      "metadata": {
        "ExecuteTime": {
          "end_time": "2020-04-08T06:20:21.711478Z",
          "start_time": "2020-04-08T06:20:21.708508Z"
        },
        "id": "nzHDUPw__xom",
        "colab_type": "code",
        "outputId": "bf343d12-55a1-44e3-b665-bc5c41cc7dcc",
        "colab": {
          "base_uri": "https://localhost:8080/",
          "height": 35
        }
      },
      "source": [
        "try:\n",
        "  os.mkdir(\"DNx2\")\n",
        "except:\n",
        "  print(\"Directory was already made!\")"
      ],
      "execution_count": 0,
      "outputs": [
        {
          "output_type": "stream",
          "text": [
            "Directory was already made!\n"
          ],
          "name": "stdout"
        }
      ]
    },
    {
      "cell_type": "code",
      "metadata": {
        "ExecuteTime": {
          "end_time": "2020-04-08T06:24:05.444642Z",
          "start_time": "2020-04-08T06:20:21.733807Z"
        },
        "code_folding": [],
        "id": "-63I-wpR_xoo",
        "colab_type": "code",
        "outputId": "1ab3901f-2a52-4885-bb21-07ffed4fdd8c",
        "colab": {
          "base_uri": "https://localhost:8080/",
          "height": 197
        }
      },
      "source": [
        "noise_level = 30\n",
        "\n",
        "for file in file_list:\n",
        "    file_name = os.path.splitext(file)[-2]\n",
        "    file_name = os.path.split(file_name)[-1]\n",
        "    img = misc.imread(file)\n",
        "    print(file)\n",
        "    try:\n",
        "        h,w,c = img.shape\n",
        "        noise = np.random.randn(h,w,c) * 30\n",
        "    except:\n",
        "        h,w = img.shape\n",
        "        noise = np.random.randn(h,w) * 30\n",
        "    noised_img = img +noise\n",
        "    misc.imsave(\"DNx2/\"+file_name+'.{}'.format(save_format), noised_img, format=save_format)\n",
        "  "
      ],
      "execution_count": 0,
      "outputs": [
        {
          "output_type": "stream",
          "text": [
            "./x2/example2.png\n",
            "./x2/example.png\n"
          ],
          "name": "stdout"
        },
        {
          "output_type": "stream",
          "text": [
            "/usr/local/lib/python3.6/dist-packages/ipykernel_launcher.py:6: DeprecationWarning: `imread` is deprecated!\n",
            "`imread` is deprecated in SciPy 1.0.0, and will be removed in 1.2.0.\n",
            "Use ``imageio.imread`` instead.\n",
            "  \n",
            "/usr/local/lib/python3.6/dist-packages/ipykernel_launcher.py:15: DeprecationWarning: `imsave` is deprecated!\n",
            "`imsave` is deprecated in SciPy 1.0.0, and will be removed in 1.2.0.\n",
            "Use ``imageio.imwrite`` instead.\n",
            "  from ipykernel import kernelapp as app\n"
          ],
          "name": "stderr"
        }
      ]
    },
    {
      "cell_type": "code",
      "metadata": {
        "ExecuteTime": {
          "end_time": "2020-04-09T05:07:21.231139Z",
          "start_time": "2020-04-09T05:07:21.181378Z"
        },
        "id": "0cczMMHx_xos",
        "colab_type": "code",
        "outputId": "1d0b3835-b4d8-4994-bd90-cb4bdc05f8fb",
        "colab": {
          "base_uri": "https://localhost:8080/",
          "height": 35
        }
      },
      "source": [
        "path =\"./x4/*\"\n",
        "\n",
        "file_list = glob.glob(path)\n",
        "print(file_list)"
      ],
      "execution_count": 0,
      "outputs": [
        {
          "output_type": "stream",
          "text": [
            "['./x4/example2.png', './x4/example.png']\n"
          ],
          "name": "stdout"
        }
      ]
    },
    {
      "cell_type": "code",
      "metadata": {
        "ExecuteTime": {
          "end_time": "2020-04-09T05:07:25.824642Z",
          "start_time": "2020-04-09T05:07:25.816910Z"
        },
        "id": "8guAF1wT_xow",
        "colab_type": "code",
        "outputId": "61a1d99e-bd34-40c5-89e9-51ee0d032f6a",
        "colab": {
          "base_uri": "https://localhost:8080/",
          "height": 35
        }
      },
      "source": [
        "try:\n",
        "    os.mkdir(\"DNx4\")\n",
        "except:\n",
        "    print(\"directory was already made!\")"
      ],
      "execution_count": 0,
      "outputs": [
        {
          "output_type": "stream",
          "text": [
            "directory was already made!\n"
          ],
          "name": "stdout"
        }
      ]
    },
    {
      "cell_type": "code",
      "metadata": {
        "ExecuteTime": {
          "end_time": "2020-04-09T05:09:14.692154Z",
          "start_time": "2020-04-09T05:07:27.535989Z"
        },
        "id": "ex1OoQy8_xo0",
        "colab_type": "code",
        "outputId": "b09536dd-b4c7-470c-ebb3-e3d4f2d2018d",
        "colab": {
          "base_uri": "https://localhost:8080/",
          "height": 197
        }
      },
      "source": [
        "noise_level = 30\n",
        "\n",
        "for file in file_list:\n",
        "    file_name = os.path.splitext(file)[-2]\n",
        "    file_name = os.path.split(file_name)[-1]\n",
        "    img = misc.imread(file)\n",
        "    print(file)\n",
        "    try:\n",
        "        h,w,c = img.shape\n",
        "        noise = np.random.randn(h,w,c) * 30\n",
        "    except:\n",
        "        h,w = img.shape\n",
        "        noise = np.random.randn(h,w) * 30\n",
        "    noised_img = img +noise\n",
        "    misc.imsave(\"DNx4/\"+file_name+\".{}\".format(save_format), noised_img, format=save_format)\n",
        "    "
      ],
      "execution_count": 0,
      "outputs": [
        {
          "output_type": "stream",
          "text": [
            "./x4/example2.png\n",
            "./x4/example.png\n"
          ],
          "name": "stdout"
        },
        {
          "output_type": "stream",
          "text": [
            "/usr/local/lib/python3.6/dist-packages/ipykernel_launcher.py:6: DeprecationWarning: `imread` is deprecated!\n",
            "`imread` is deprecated in SciPy 1.0.0, and will be removed in 1.2.0.\n",
            "Use ``imageio.imread`` instead.\n",
            "  \n",
            "/usr/local/lib/python3.6/dist-packages/ipykernel_launcher.py:15: DeprecationWarning: `imsave` is deprecated!\n",
            "`imsave` is deprecated in SciPy 1.0.0, and will be removed in 1.2.0.\n",
            "Use ``imageio.imwrite`` instead.\n",
            "  from ipykernel import kernelapp as app\n"
          ],
          "name": "stderr"
        }
      ]
    },
    {
      "cell_type": "code",
      "metadata": {
        "ExecuteTime": {
          "end_time": "2020-04-08T06:25:51.465932Z",
          "start_time": "2020-04-08T06:25:51.437127Z"
        },
        "id": "XWxq2J8F_xo3",
        "colab_type": "code",
        "outputId": "365c5bfe-e9c4-4469-e0ce-770aa65ecedb",
        "colab": {
          "base_uri": "https://localhost:8080/",
          "height": 35
        }
      },
      "source": [
        "'''\n",
        "Generating BD dataset\n",
        "'''\n",
        "\n",
        "import numpy as np\n",
        "\n",
        "path = dir_path\n",
        "\n",
        "file_list = glob.glob(path)\n",
        "\n",
        "print(os.path.split(file_list[0])[-1])\n"
      ],
      "execution_count": 0,
      "outputs": [
        {
          "output_type": "stream",
          "text": [
            "example2.PNG\n"
          ],
          "name": "stdout"
        }
      ]
    },
    {
      "cell_type": "code",
      "metadata": {
        "ExecuteTime": {
          "end_time": "2020-04-08T06:25:51.499323Z",
          "start_time": "2020-04-08T06:25:51.496341Z"
        },
        "id": "-0ZlA1rs_xo5",
        "colab_type": "code",
        "colab": {}
      },
      "source": [
        "try:\n",
        "    os.mkdir(\"BD_original\")\n",
        "except:\n",
        "    print(\"directory was already made!\")"
      ],
      "execution_count": 0,
      "outputs": []
    },
    {
      "cell_type": "code",
      "metadata": {
        "ExecuteTime": {
          "end_time": "2020-04-08T06:27:44.740149Z",
          "start_time": "2020-04-08T06:25:51.528562Z"
        },
        "id": "NMr-VfEo_xo8",
        "colab_type": "code",
        "colab": {}
      },
      "source": [
        "import cv2\n",
        "import os\n",
        "\n",
        "\n",
        "for file in file_list:\n",
        "    file_name = os.path.split(file)[-1]\n",
        "    img= cv2.imread(file)\n",
        "    blured_img = cv2.GaussianBlur(img,(7,7),1.6)\n",
        "    cv2.imwrite(\"BD_original/\"+file_name, blured_img)\n",
        "    \n",
        "\n"
      ],
      "execution_count": 0,
      "outputs": []
    },
    {
      "cell_type": "code",
      "metadata": {
        "ExecuteTime": {
          "end_time": "2020-04-08T06:27:44.858165Z",
          "start_time": "2020-04-08T06:27:44.797879Z"
        },
        "id": "6KV9P96-_xo-",
        "colab_type": "code",
        "outputId": "f3dc9184-2c71-4e05-cc8a-203aaeeaf2d3",
        "colab": {
          "base_uri": "https://localhost:8080/",
          "height": 35
        }
      },
      "source": [
        "path =\"./BD_original/*\"\n",
        "\n",
        "file_list = glob.glob(path)\n",
        "print(file_list)"
      ],
      "execution_count": 0,
      "outputs": [
        {
          "output_type": "stream",
          "text": [
            "['./BD_original/example2.PNG', './BD_original/example.PNG']\n"
          ],
          "name": "stdout"
        }
      ]
    },
    {
      "cell_type": "code",
      "metadata": {
        "ExecuteTime": {
          "end_time": "2020-04-08T06:27:44.917152Z",
          "start_time": "2020-04-08T06:27:44.908033Z"
        },
        "id": "HeDo72dU_xpC",
        "colab_type": "code",
        "colab": {}
      },
      "source": [
        "try:\n",
        "    os.mkdir(\"BDx2\")\n",
        "    os.mkdir(\"BDx4\")\n",
        "\n",
        "except:\n",
        "    print(\"directory was already made!\")"
      ],
      "execution_count": 0,
      "outputs": []
    },
    {
      "cell_type": "code",
      "metadata": {
        "ExecuteTime": {
          "end_time": "2020-04-08T06:34:25.313167Z",
          "start_time": "2020-04-08T06:27:44.975713Z"
        },
        "id": "_ilKST4u_xpE",
        "colab_type": "code",
        "outputId": "3d6c3620-8577-42ad-a1be-ed5d1fe93e45",
        "colab": {
          "base_uri": "https://localhost:8080/",
          "height": 377
        }
      },
      "source": [
        "import scipy.misc as misc\n",
        "\n",
        "for file in file_list:\n",
        "    file_name = os.path.splitext(file)[-2]\n",
        "    file_name = os.path.split(file_name)[-1]\n",
        "    img = misc.imread(file)\n",
        "    lr = misc.imresize(img, size = 0.5, interp=\"bicubic\")\n",
        "    misc.imsave(\"BDx2/\"+file_name+\".{}\".format(save_format), lr, format=save_format)\n",
        "\n",
        "    lr = misc.imresize(img, size = 0.25, interp=\"bicubic\")\n",
        "    misc.imsave(\"BDx4/\"+file_name+\".{}\".format(save_format), lr, format=save_format)"
      ],
      "execution_count": 0,
      "outputs": [
        {
          "output_type": "stream",
          "text": [
            "/usr/local/lib/python3.6/dist-packages/ipykernel_launcher.py:6: DeprecationWarning: `imread` is deprecated!\n",
            "`imread` is deprecated in SciPy 1.0.0, and will be removed in 1.2.0.\n",
            "Use ``imageio.imread`` instead.\n",
            "  \n",
            "/usr/local/lib/python3.6/dist-packages/ipykernel_launcher.py:7: DeprecationWarning: `imresize` is deprecated!\n",
            "`imresize` is deprecated in SciPy 1.0.0, and will be removed in 1.2.0.\n",
            "Use ``skimage.transform.resize`` instead.\n",
            "  import sys\n",
            "/usr/local/lib/python3.6/dist-packages/ipykernel_launcher.py:8: DeprecationWarning: `imsave` is deprecated!\n",
            "`imsave` is deprecated in SciPy 1.0.0, and will be removed in 1.2.0.\n",
            "Use ``imageio.imwrite`` instead.\n",
            "  \n",
            "/usr/local/lib/python3.6/dist-packages/ipykernel_launcher.py:10: DeprecationWarning: `imresize` is deprecated!\n",
            "`imresize` is deprecated in SciPy 1.0.0, and will be removed in 1.2.0.\n",
            "Use ``skimage.transform.resize`` instead.\n",
            "  # Remove the CWD from sys.path while we load stuff.\n",
            "/usr/local/lib/python3.6/dist-packages/ipykernel_launcher.py:11: DeprecationWarning: `imsave` is deprecated!\n",
            "`imsave` is deprecated in SciPy 1.0.0, and will be removed in 1.2.0.\n",
            "Use ``imageio.imwrite`` instead.\n",
            "  # This is added back by InteractiveShellApp.init_path()\n"
          ],
          "name": "stderr"
        }
      ]
    },
    {
      "cell_type": "code",
      "metadata": {
        "id": "lOSoxWis_xpI",
        "colab_type": "code",
        "colab": {}
      },
      "source": [
        ""
      ],
      "execution_count": 0,
      "outputs": []
    }
  ]
}